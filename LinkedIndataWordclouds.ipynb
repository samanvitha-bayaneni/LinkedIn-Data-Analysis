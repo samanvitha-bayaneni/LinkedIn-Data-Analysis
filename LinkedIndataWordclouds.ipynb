{
 "cells": [
  {
   "cell_type": "code",
   "execution_count": 1,
   "metadata": {},
   "outputs": [],
   "source": [
    "import pandas as pd\n",
    "import nltk\n",
    "from bs4 import BeautifulSoup\n",
    "import string\n",
    "from nltk.corpus import stopwords\n",
    "from nltk.tokenize import RegexpTokenizer\n",
    "from nltk.stem import WordNetLemmatizer\n",
    "from nltk.stem.porter import PorterStemmer"
   ]
  },
  {
   "cell_type": "code",
   "execution_count": 2,
   "metadata": {},
   "outputs": [
    {
     "data": {
      "text/html": [
       "<div>\n",
       "<style scoped>\n",
       "    .dataframe tbody tr th:only-of-type {\n",
       "        vertical-align: middle;\n",
       "    }\n",
       "\n",
       "    .dataframe tbody tr th {\n",
       "        vertical-align: top;\n",
       "    }\n",
       "\n",
       "    .dataframe thead th {\n",
       "        text-align: right;\n",
       "    }\n",
       "</style>\n",
       "<table border=\"1\" class=\"dataframe\">\n",
       "  <thead>\n",
       "    <tr style=\"text-align: right;\">\n",
       "      <th></th>\n",
       "      <th>Full name</th>\n",
       "      <th>Title</th>\n",
       "      <th>Location</th>\n",
       "      <th>Summary</th>\n",
       "      <th>Organization 1</th>\n",
       "      <th>Organization Title 1</th>\n",
       "      <th>Organization Start 1</th>\n",
       "      <th>Organization End 1</th>\n",
       "      <th>Organization Description 1</th>\n",
       "      <th>Organization Location 1</th>\n",
       "      <th>...</th>\n",
       "      <th>Education Description 3</th>\n",
       "      <th>Skills</th>\n",
       "      <th>Followers</th>\n",
       "      <th>Relationship</th>\n",
       "      <th>Industry</th>\n",
       "      <th>Mutual Count</th>\n",
       "      <th>Mutual</th>\n",
       "      <th>Mutual 1</th>\n",
       "      <th>Mutual 2</th>\n",
       "      <th>Interests</th>\n",
       "    </tr>\n",
       "  </thead>\n",
       "  <tbody>\n",
       "    <tr>\n",
       "      <th>0</th>\n",
       "      <td>Karthik Ragunathan</td>\n",
       "      <td>Data Science Consulting</td>\n",
       "      <td>Chennai Area, India</td>\n",
       "      <td>* 11 years of experience in Data Science consu...</td>\n",
       "      <td>Data Science Consulting</td>\n",
       "      <td>Data Science Leadership</td>\n",
       "      <td>Oct-15</td>\n",
       "      <td>PRESENT</td>\n",
       "      <td>Successfully delivered Data Science Consulting...</td>\n",
       "      <td>Chennai Area, India</td>\n",
       "      <td>...</td>\n",
       "      <td>NaN</td>\n",
       "      <td>\"Data Science : 0, Machine Learning : 0, Pytho...</td>\n",
       "      <td>NaN</td>\n",
       "      <td>2</td>\n",
       "      <td>Management Consulting</td>\n",
       "      <td>4</td>\n",
       "      <td>Subbarao Yeddala, Anand H</td>\n",
       "      <td>Subbarao Yeddala</td>\n",
       "      <td>Anand H</td>\n",
       "      <td>The R Project for Statistical Computing; Data ...</td>\n",
       "    </tr>\n",
       "    <tr>\n",
       "      <th>1</th>\n",
       "      <td>Karthik Revanuru</td>\n",
       "      <td>Data Science at CRED</td>\n",
       "      <td>bangalore, Karnataka, India</td>\n",
       "      <td>Currently part of Data Science team at CRED.  ...</td>\n",
       "      <td>CRED</td>\n",
       "      <td>Data Science</td>\n",
       "      <td>Dec-19</td>\n",
       "      <td>PRESENT</td>\n",
       "      <td>NaN</td>\n",
       "      <td>NaN</td>\n",
       "      <td>...</td>\n",
       "      <td>NaN</td>\n",
       "      <td>\"Python : 4, C++ : 5, C : 6, Android Developme...</td>\n",
       "      <td>2110.0</td>\n",
       "      <td>2</td>\n",
       "      <td>Information Technology &amp; Services</td>\n",
       "      <td>19</td>\n",
       "      <td>Aman Goel, Manoj Marmat</td>\n",
       "      <td>Aman Goel</td>\n",
       "      <td>Manoj Marmat</td>\n",
       "      <td>Artificial Intelligence (AI) and Machine Learn...</td>\n",
       "    </tr>\n",
       "    <tr>\n",
       "      <th>2</th>\n",
       "      <td>Rahul Kulhari</td>\n",
       "      <td>Head of Data Science</td>\n",
       "      <td>bangalore, Karnataka, India</td>\n",
       "      <td>Heading Data Science Team and building AI prod...</td>\n",
       "      <td>EdGE Networks Pvt. Ltd.</td>\n",
       "      <td>Head - Data Science</td>\n",
       "      <td>2018</td>\n",
       "      <td>PRESENT</td>\n",
       "      <td>I am responsible for AI vision, strategy and E...</td>\n",
       "      <td>bangalore Area, India</td>\n",
       "      <td>...</td>\n",
       "      <td>NaN</td>\n",
       "      <td>\"Deep Learning : 3, Machine Learning : 22, Nat...</td>\n",
       "      <td>NaN</td>\n",
       "      <td>2</td>\n",
       "      <td>Computer Software</td>\n",
       "      <td>2</td>\n",
       "      <td>Sridhar A and Rajesh Shreedhar Bhat</td>\n",
       "      <td>Sridhar A</td>\n",
       "      <td>Rajesh Bhat</td>\n",
       "      <td>Narendra Modi; Deepak Chopra MD (official); Ac...</td>\n",
       "    </tr>\n",
       "    <tr>\n",
       "      <th>3</th>\n",
       "      <td>Sanjana Sathishkumar</td>\n",
       "      <td>Data Scientist at Wipro Limited</td>\n",
       "      <td>Chennai, Tamil Nadu, India</td>\n",
       "      <td>Post graduate student in Data Science Engineer...</td>\n",
       "      <td>Wipro Limited</td>\n",
       "      <td>Data Scientist</td>\n",
       "      <td>Jul-20</td>\n",
       "      <td>PRESENT</td>\n",
       "      <td>NaN</td>\n",
       "      <td>NaN</td>\n",
       "      <td>...</td>\n",
       "      <td>NaN</td>\n",
       "      <td>\"Python (Programming Language) : 5, MySQL : 6,...</td>\n",
       "      <td>393.0</td>\n",
       "      <td>2</td>\n",
       "      <td>Information Technology &amp; Services</td>\n",
       "      <td>4</td>\n",
       "      <td>Sushmitha Pulagam, Aniruddha Kalbande</td>\n",
       "      <td>Sushmitha Pulagam</td>\n",
       "      <td>Aniruddha Kalbande</td>\n",
       "      <td>SAP; Deloitte; Verizon; Machine Learning and D...</td>\n",
       "    </tr>\n",
       "    <tr>\n",
       "      <th>4</th>\n",
       "      <td>Saurav C.</td>\n",
       "      <td>Director - Data Science at Freshworks</td>\n",
       "      <td>bangalore, Karnataka, India</td>\n",
       "      <td>I am a Data Scientist with experience in conce...</td>\n",
       "      <td>Freshworks</td>\n",
       "      <td>Director - Data Science</td>\n",
       "      <td>Jul-20</td>\n",
       "      <td>PRESENT</td>\n",
       "      <td>NaN</td>\n",
       "      <td>bangalore, Karnataka, India</td>\n",
       "      <td>...</td>\n",
       "      <td>NaN</td>\n",
       "      <td>\"IT Strategy : 34, Team Management : 31, Analy...</td>\n",
       "      <td>3093.0</td>\n",
       "      <td>2</td>\n",
       "      <td>Computer Software</td>\n",
       "      <td>7</td>\n",
       "      <td>Sajin Madhavan S, Roshan Sharma</td>\n",
       "      <td>Sajin Madhavan</td>\n",
       "      <td>Roshan Sharma</td>\n",
       "      <td>Frost &amp; Sullivan; Jeff Immelt; Teradata; Jeff ...</td>\n",
       "    </tr>\n",
       "    <tr>\n",
       "      <th>...</th>\n",
       "      <td>...</td>\n",
       "      <td>...</td>\n",
       "      <td>...</td>\n",
       "      <td>...</td>\n",
       "      <td>...</td>\n",
       "      <td>...</td>\n",
       "      <td>...</td>\n",
       "      <td>...</td>\n",
       "      <td>...</td>\n",
       "      <td>...</td>\n",
       "      <td>...</td>\n",
       "      <td>...</td>\n",
       "      <td>...</td>\n",
       "      <td>...</td>\n",
       "      <td>...</td>\n",
       "      <td>...</td>\n",
       "      <td>...</td>\n",
       "      <td>...</td>\n",
       "      <td>...</td>\n",
       "      <td>...</td>\n",
       "      <td>...</td>\n",
       "    </tr>\n",
       "    <tr>\n",
       "      <th>115</th>\n",
       "      <td>Yaser Take</td>\n",
       "      <td>Data science at Gathi Analytics</td>\n",
       "      <td>Hyderabad, Telangana, India</td>\n",
       "      <td>1) I am an engineer with computer science majo...</td>\n",
       "      <td>Gathi Analytics</td>\n",
       "      <td>Jr Data Engineer</td>\n",
       "      <td>Oct-19</td>\n",
       "      <td>PRESENT</td>\n",
       "      <td>NaN</td>\n",
       "      <td>NaN</td>\n",
       "      <td>...</td>\n",
       "      <td>NaN</td>\n",
       "      <td>\"Data Analysis : 7, SQL : 7, Python (Programmi...</td>\n",
       "      <td>6309.0</td>\n",
       "      <td>2</td>\n",
       "      <td>Information Technology &amp; Services</td>\n",
       "      <td>53</td>\n",
       "      <td>Meghashyam Chinta, Ramesh Dileep Kumar Appana,...</td>\n",
       "      <td>Meghashyam Chinta</td>\n",
       "      <td>Ramesh Kumar Appana</td>\n",
       "      <td>IBM; Azure Data Factory User Group; Naomi Sims...</td>\n",
       "    </tr>\n",
       "    <tr>\n",
       "      <th>116</th>\n",
       "      <td>Mohsin Hasan Khan</td>\n",
       "      <td>Senior Data Science at OkCredit</td>\n",
       "      <td>bangalore, Karnataka, India</td>\n",
       "      <td>NaN</td>\n",
       "      <td>OkCredit</td>\n",
       "      <td>Senior Data Science</td>\n",
       "      <td>Apr-20</td>\n",
       "      <td>PRESENT</td>\n",
       "      <td>NaN</td>\n",
       "      <td>bangalore, Karnataka, India</td>\n",
       "      <td>...</td>\n",
       "      <td>NaN</td>\n",
       "      <td>\"Algorithms : 13, Python : 8, Data Science : 6...</td>\n",
       "      <td>NaN</td>\n",
       "      <td>2</td>\n",
       "      <td>Information Technology &amp; Services</td>\n",
       "      <td>11</td>\n",
       "      <td>Karry Harsh, Subbarao Yeddala</td>\n",
       "      <td>Karry Harsh</td>\n",
       "      <td>Subbarao Yeddala</td>\n",
       "      <td>Huawei; Oracle; Adobe; LinkedIn; Data Science ...</td>\n",
       "    </tr>\n",
       "    <tr>\n",
       "      <th>117</th>\n",
       "      <td>Akarsh Agnivesh</td>\n",
       "      <td>Analytics &amp; Data Science - Amazon</td>\n",
       "      <td>Hyderabad, Telangana, India</td>\n",
       "      <td>Data-driven professional offering strengths in...</td>\n",
       "      <td>Amazon</td>\n",
       "      <td>Manager, Business Intelligence &amp; Platforms</td>\n",
       "      <td>Jul-19</td>\n",
       "      <td>PRESENT</td>\n",
       "      <td>NaN</td>\n",
       "      <td>Hyderabad, Telangana</td>\n",
       "      <td>...</td>\n",
       "      <td>NaN</td>\n",
       "      <td>\"SQL : 37, Analytics : 28, Business Intelligen...</td>\n",
       "      <td>3075.0</td>\n",
       "      <td>2</td>\n",
       "      <td>Internet</td>\n",
       "      <td>15</td>\n",
       "      <td>Vineeth Nalam, kavali kishore</td>\n",
       "      <td>Vineeth Nalam</td>\n",
       "      <td>Kavali Kishore</td>\n",
       "      <td>Reid Hoffman; Advanced Analytics; Bill Gates; ...</td>\n",
       "    </tr>\n",
       "    <tr>\n",
       "      <th>118</th>\n",
       "      <td>Archana K M</td>\n",
       "      <td>Data Science Consultant at Syniti</td>\n",
       "      <td>bangalore, Karnataka, India</td>\n",
       "      <td># Working as Data Science Consultant at Syniti...</td>\n",
       "      <td>Syniti</td>\n",
       "      <td>Data Science Consultant</td>\n",
       "      <td>Jan-19</td>\n",
       "      <td>PRESENT</td>\n",
       "      <td>- Developing computer vision solutions for ris...</td>\n",
       "      <td>bangalore, Karnataka, India</td>\n",
       "      <td>...</td>\n",
       "      <td>NaN</td>\n",
       "      <td>\"Machine Learning : 4, Deep Learning : 2, Natu...</td>\n",
       "      <td>NaN</td>\n",
       "      <td>2</td>\n",
       "      <td>Information Technology &amp; Services</td>\n",
       "      <td>13</td>\n",
       "      <td>Sathyanarayanan O, Yogesh Jadhav</td>\n",
       "      <td>Sathyanarayanan O</td>\n",
       "      <td>Yogesh Jadhav</td>\n",
       "      <td>Data Scientists against Disease / #Covid19 / #...</td>\n",
       "    </tr>\n",
       "    <tr>\n",
       "      <th>119</th>\n",
       "      <td>Padmakumar Nambiar</td>\n",
       "      <td>Director - Data Science and Insights (AI &amp; ML)...</td>\n",
       "      <td>bangalore, Karnataka, India</td>\n",
       "      <td>Hands-on Senior Management Executive with abou...</td>\n",
       "      <td>Oracle</td>\n",
       "      <td>Director Of Product Development (AI, Data Scie...</td>\n",
       "      <td>Nov-17</td>\n",
       "      <td>PRESENT</td>\n",
       "      <td>Leading Development and Engineering of cloud b...</td>\n",
       "      <td>NaN</td>\n",
       "      <td>...</td>\n",
       "      <td>NaN</td>\n",
       "      <td>\"Software Development : 48, Agile Methodologie...</td>\n",
       "      <td>5324.0</td>\n",
       "      <td>2</td>\n",
       "      <td>Information Technology &amp; Services</td>\n",
       "      <td>7</td>\n",
       "      <td>Dinesh RochiRamani, kavali kishore</td>\n",
       "      <td>Dinesh Rochiramani</td>\n",
       "      <td>Kavali Kishore</td>\n",
       "      <td>Satya Nadella; The Wharton School; National In...</td>\n",
       "    </tr>\n",
       "  </tbody>\n",
       "</table>\n",
       "<p>120 rows × 55 columns</p>\n",
       "</div>"
      ],
      "text/plain": [
       "                Full name                                              Title  \\\n",
       "0      Karthik Ragunathan                            Data Science Consulting   \n",
       "1        Karthik Revanuru                               Data Science at CRED   \n",
       "2           Rahul Kulhari                               Head of Data Science   \n",
       "3    Sanjana Sathishkumar                    Data Scientist at Wipro Limited   \n",
       "4               Saurav C.              Director - Data Science at Freshworks   \n",
       "..                    ...                                                ...   \n",
       "115            Yaser Take                    Data science at Gathi Analytics   \n",
       "116     Mohsin Hasan Khan                    Senior Data Science at OkCredit   \n",
       "117       Akarsh Agnivesh                  Analytics & Data Science - Amazon   \n",
       "118           Archana K M                  Data Science Consultant at Syniti   \n",
       "119    Padmakumar Nambiar  Director - Data Science and Insights (AI & ML)...   \n",
       "\n",
       "                        Location  \\\n",
       "0            Chennai Area, India   \n",
       "1    bangalore, Karnataka, India   \n",
       "2    bangalore, Karnataka, India   \n",
       "3     Chennai, Tamil Nadu, India   \n",
       "4    bangalore, Karnataka, India   \n",
       "..                           ...   \n",
       "115  Hyderabad, Telangana, India   \n",
       "116  bangalore, Karnataka, India   \n",
       "117  Hyderabad, Telangana, India   \n",
       "118  bangalore, Karnataka, India   \n",
       "119  bangalore, Karnataka, India   \n",
       "\n",
       "                                               Summary  \\\n",
       "0    * 11 years of experience in Data Science consu...   \n",
       "1    Currently part of Data Science team at CRED.  ...   \n",
       "2    Heading Data Science Team and building AI prod...   \n",
       "3    Post graduate student in Data Science Engineer...   \n",
       "4    I am a Data Scientist with experience in conce...   \n",
       "..                                                 ...   \n",
       "115  1) I am an engineer with computer science majo...   \n",
       "116                                                NaN   \n",
       "117  Data-driven professional offering strengths in...   \n",
       "118  # Working as Data Science Consultant at Syniti...   \n",
       "119  Hands-on Senior Management Executive with abou...   \n",
       "\n",
       "              Organization 1  \\\n",
       "0    Data Science Consulting   \n",
       "1                       CRED   \n",
       "2    EdGE Networks Pvt. Ltd.   \n",
       "3              Wipro Limited   \n",
       "4                 Freshworks   \n",
       "..                       ...   \n",
       "115          Gathi Analytics   \n",
       "116                 OkCredit   \n",
       "117                   Amazon   \n",
       "118                   Syniti   \n",
       "119                   Oracle   \n",
       "\n",
       "                                  Organization Title 1 Organization Start 1  \\\n",
       "0                              Data Science Leadership               Oct-15   \n",
       "1                                         Data Science               Dec-19   \n",
       "2                                  Head - Data Science                 2018   \n",
       "3                                       Data Scientist               Jul-20   \n",
       "4                              Director - Data Science               Jul-20   \n",
       "..                                                 ...                  ...   \n",
       "115                                   Jr Data Engineer               Oct-19   \n",
       "116                                Senior Data Science               Apr-20   \n",
       "117         Manager, Business Intelligence & Platforms               Jul-19   \n",
       "118                            Data Science Consultant               Jan-19   \n",
       "119  Director Of Product Development (AI, Data Scie...               Nov-17   \n",
       "\n",
       "    Organization End 1                         Organization Description 1  \\\n",
       "0              PRESENT  Successfully delivered Data Science Consulting...   \n",
       "1              PRESENT                                                NaN   \n",
       "2              PRESENT  I am responsible for AI vision, strategy and E...   \n",
       "3              PRESENT                                                NaN   \n",
       "4              PRESENT                                                NaN   \n",
       "..                 ...                                                ...   \n",
       "115            PRESENT                                                NaN   \n",
       "116            PRESENT                                                NaN   \n",
       "117            PRESENT                                                NaN   \n",
       "118            PRESENT  - Developing computer vision solutions for ris...   \n",
       "119            PRESENT  Leading Development and Engineering of cloud b...   \n",
       "\n",
       "         Organization Location 1  ... Education Description 3  \\\n",
       "0            Chennai Area, India  ...                     NaN   \n",
       "1                            NaN  ...                     NaN   \n",
       "2          bangalore Area, India  ...                     NaN   \n",
       "3                            NaN  ...                     NaN   \n",
       "4    bangalore, Karnataka, India  ...                     NaN   \n",
       "..                           ...  ...                     ...   \n",
       "115                          NaN  ...                     NaN   \n",
       "116  bangalore, Karnataka, India  ...                     NaN   \n",
       "117         Hyderabad, Telangana  ...                     NaN   \n",
       "118  bangalore, Karnataka, India  ...                     NaN   \n",
       "119                          NaN  ...                     NaN   \n",
       "\n",
       "                                                Skills Followers Relationship  \\\n",
       "0    \"Data Science : 0, Machine Learning : 0, Pytho...       NaN            2   \n",
       "1    \"Python : 4, C++ : 5, C : 6, Android Developme...    2110.0            2   \n",
       "2    \"Deep Learning : 3, Machine Learning : 22, Nat...       NaN            2   \n",
       "3    \"Python (Programming Language) : 5, MySQL : 6,...     393.0            2   \n",
       "4    \"IT Strategy : 34, Team Management : 31, Analy...    3093.0            2   \n",
       "..                                                 ...       ...          ...   \n",
       "115  \"Data Analysis : 7, SQL : 7, Python (Programmi...    6309.0            2   \n",
       "116  \"Algorithms : 13, Python : 8, Data Science : 6...       NaN            2   \n",
       "117  \"SQL : 37, Analytics : 28, Business Intelligen...    3075.0            2   \n",
       "118  \"Machine Learning : 4, Deep Learning : 2, Natu...       NaN            2   \n",
       "119  \"Software Development : 48, Agile Methodologie...    5324.0            2   \n",
       "\n",
       "                              Industry Mutual Count  \\\n",
       "0                Management Consulting            4   \n",
       "1    Information Technology & Services           19   \n",
       "2                    Computer Software            2   \n",
       "3    Information Technology & Services            4   \n",
       "4                    Computer Software            7   \n",
       "..                                 ...          ...   \n",
       "115  Information Technology & Services           53   \n",
       "116  Information Technology & Services           11   \n",
       "117                           Internet           15   \n",
       "118  Information Technology & Services           13   \n",
       "119  Information Technology & Services            7   \n",
       "\n",
       "                                                Mutual            Mutual 1  \\\n",
       "0                            Subbarao Yeddala, Anand H    Subbarao Yeddala   \n",
       "1                              Aman Goel, Manoj Marmat           Aman Goel   \n",
       "2                  Sridhar A and Rajesh Shreedhar Bhat           Sridhar A   \n",
       "3                Sushmitha Pulagam, Aniruddha Kalbande   Sushmitha Pulagam   \n",
       "4                      Sajin Madhavan S, Roshan Sharma      Sajin Madhavan   \n",
       "..                                                 ...                 ...   \n",
       "115  Meghashyam Chinta, Ramesh Dileep Kumar Appana,...   Meghashyam Chinta   \n",
       "116                      Karry Harsh, Subbarao Yeddala         Karry Harsh   \n",
       "117                      Vineeth Nalam, kavali kishore       Vineeth Nalam   \n",
       "118                   Sathyanarayanan O, Yogesh Jadhav   Sathyanarayanan O   \n",
       "119                 Dinesh RochiRamani, kavali kishore  Dinesh Rochiramani   \n",
       "\n",
       "                Mutual 2                                          Interests  \n",
       "0                Anand H  The R Project for Statistical Computing; Data ...  \n",
       "1           Manoj Marmat  Artificial Intelligence (AI) and Machine Learn...  \n",
       "2            Rajesh Bhat  Narendra Modi; Deepak Chopra MD (official); Ac...  \n",
       "3     Aniruddha Kalbande  SAP; Deloitte; Verizon; Machine Learning and D...  \n",
       "4          Roshan Sharma  Frost & Sullivan; Jeff Immelt; Teradata; Jeff ...  \n",
       "..                   ...                                                ...  \n",
       "115  Ramesh Kumar Appana  IBM; Azure Data Factory User Group; Naomi Sims...  \n",
       "116     Subbarao Yeddala  Huawei; Oracle; Adobe; LinkedIn; Data Science ...  \n",
       "117       Kavali Kishore  Reid Hoffman; Advanced Analytics; Bill Gates; ...  \n",
       "118        Yogesh Jadhav  Data Scientists against Disease / #Covid19 / #...  \n",
       "119       Kavali Kishore  Satya Nadella; The Wharton School; National In...  \n",
       "\n",
       "[120 rows x 55 columns]"
      ]
     },
     "execution_count": 2,
     "metadata": {},
     "output_type": "execute_result"
    }
   ],
   "source": [
    "# Importing the dataset \n",
    "data = pd.read_csv(\"data1.csv\",encoding= 'unicode_escape')\n",
    "data"
   ]
  },
  {
   "cell_type": "code",
   "execution_count": 3,
   "metadata": {},
   "outputs": [
    {
     "data": {
      "text/plain": [
       "Education Description 3       0.941667\n",
       "Education Description 2       0.925000\n",
       "Education Description 1       0.833333\n",
       "Organization Description 5    0.683333\n",
       "Education FOS 3               0.666667\n",
       "Education Degree 3            0.616667\n",
       "Organization Location 5       0.608333\n",
       "Organization Description 2    0.600000\n",
       "Organization Description 4    0.600000\n",
       "Organization Description 1    0.583333\n",
       "Organization Description 3    0.583333\n",
       "Education 3                   0.508333\n",
       "Organization Location 4       0.483333\n",
       "Organization 5                0.483333\n",
       "Organization Title 5          0.483333\n",
       "Organization End 5            0.483333\n",
       "Organization Start 5          0.483333\n",
       "Education FOS 2               0.341667\n",
       "Organization 4                0.333333\n",
       "Organization End 4            0.333333\n",
       "Education Degree 2            0.333333\n",
       "Organization Title 4          0.333333\n",
       "Organization Start 4          0.333333\n",
       "Organization Location 3       0.308333\n",
       "Followers                     0.258333\n",
       "Organization 3                0.208333\n",
       "Organization Title 3          0.208333\n",
       "Organization Start 3          0.208333\n",
       "Organization End 3            0.208333\n",
       "Education 2                   0.208333\n",
       "Organization Location 2       0.200000\n",
       "Organization Location 1       0.191667\n",
       "Summary                       0.141667\n",
       "Organization 2                0.083333\n",
       "Organization Title 2          0.083333\n",
       "Organization Start 2          0.083333\n",
       "Organization End 2            0.083333\n",
       "Education FOS 1               0.050000\n",
       "Mutual 2                      0.033333\n",
       "Organization End 1            0.033333\n",
       "Education Degree 1            0.033333\n",
       "Organization Title 1          0.033333\n",
       "Organization Start 1          0.033333\n",
       "Organization 1                0.033333\n",
       "Location                      0.008333\n",
       "Education 1                   0.008333\n",
       "Industry                      0.008333\n",
       "Title                         0.000000\n",
       "Interests                     0.000000\n",
       "Skills                        0.000000\n",
       "Relationship                  0.000000\n",
       "Mutual Count                  0.000000\n",
       "Mutual                        0.000000\n",
       "Mutual 1                      0.000000\n",
       "Full name                     0.000000\n",
       "dtype: float64"
      ]
     },
     "execution_count": 3,
     "metadata": {},
     "output_type": "execute_result"
    }
   ],
   "source": [
    "data.isnull().mean().sort_values(ascending=False)"
   ]
  },
  {
   "cell_type": "code",
   "execution_count": 4,
   "metadata": {},
   "outputs": [
    {
     "data": {
      "text/plain": [
       "NaN                                                                                                                                                                                                                                                          113\n",
       "During the course of study I gained good knowledge in mathematics and physics and practically understood the real time experiments.                                                                                                                            1\n",
       "R G Shah Science College, Vasna, Ahmedabad                                                                                                                                                                                                                     1\n",
       "Passed 10th and 12th from SHCS affiliated to ICSE board                                                                                                                                                                                                        1\n",
       "1st Semester of the PGDBA programme                                                                                                                                                                                                                            1\n",
       "Algebra,Real Analysis,Complex Analysis, Differential Equations,Numerical Analysis,Mathematical Programming,Game Theory,Multivariate Calculus,Economics,Chemistry,Prob. & Stats,Formal Logics/Symbolic Logics,Discrete Math.                                    1\n",
       "Thesis title: âImplementation and Performance evaluation of an Automated model against DDoS attacks\".Credits:A paper was published in International Journal of Wireless and Mobile Computing (IJWMC) on this work.www.uow.edu.au/~ymu/ijwmc/preface.pdf      1\n",
       "Certified in APICS (CSCP) 2007Certified in Project Management Professional (PMP) 2009                                                                                                                                                                          1\n",
       "Name: Education Description 3, dtype: int64"
      ]
     },
     "execution_count": 4,
     "metadata": {},
     "output_type": "execute_result"
    }
   ],
   "source": [
    "data['Education Description 3'].value_counts(dropna=False)"
   ]
  },
  {
   "cell_type": "code",
   "execution_count": 5,
   "metadata": {},
   "outputs": [
    {
     "data": {
      "text/plain": [
       "NaN                                                                                                                                                                                                                                                                                                                                                                                                      111\n",
       "Bachelor of Science (B.Sc.) in Physics and Mathematics.                                                                                                                                                                                                                                                                                                                                                    1\n",
       "Coordinator of Graphic Poster Designing in Basant 2011, Coordinator of Web development in Basant 2011.                                                                                                                                                                                                                                                                                                     1\n",
       "I graduated from the School of Biochemical Engineering in 2016. My B.tech and M.tech projects were in the field of Animal Tissue Engineering on 3-D Silk Scaffolds.                                                                                                                                                                                                                                        1\n",
       "Studied Statistics as a Major Subject.                                                                                                                                                                                                                                                                                                                                                                     1\n",
       "Implemented an algorithm for the Maximum r-regular induced sub-graph problem and performed empirical analysis of its performance on different types of graphs.                                                                                                                                                                                                                                             1\n",
       "NIOS is an open schooling board comes under central govt of India,Head office is located in New Delhi.                                                                                                                                                                                                                                                                                                     1\n",
       "Graduated with Honors (Distinction)                                                                                                                                                                                                                                                                                                                                                                        1\n",
       "Thesis tile: Optimization under uncertainty for Energy Management in Smart Grid. The thesis work resulted into 7 published full papers in conferences of IEEE, ACM, CIGRE, Elsevier, IERE, 1 Book chapter and 2 Journals in submission/review. Presented the different phases of work 7 times in INFORMS, once in EURO conference. This work has 4 US patent grants and 1 patent pending application.      1\n",
       "During my course of study I gained industrial knowledge apart from my academics and worked on my skills to enter into the corporate world from student .My major subjects are in electronics and communication engineering ,graduated from Osmania university, public university in Hyderabad, Telangana.                                                                                                  1\n",
       "Name: Education Description 2, dtype: int64"
      ]
     },
     "execution_count": 5,
     "metadata": {},
     "output_type": "execute_result"
    }
   ],
   "source": [
    "data['Education Description 2'].value_counts(dropna=False)"
   ]
  },
  {
   "cell_type": "code",
   "execution_count": 6,
   "metadata": {},
   "outputs": [
    {
     "data": {
      "text/plain": [
       "NaN                                                                                                                                                                                                                                                                                                                                                                                                                                                                                                                                                                                                                                                                                                                                                                                                                                                                                                                                         100\n",
       "Elected member of Student Activity Committee                                                                                                                                                                                                                                                                                                                                                                                                                                                                                                                                                                                                                                                                                                                                                                                                                                                                                                  1\n",
       "Courses - Data Structures And Algorithms, Computer Networks, Pattern Recognition, Neural Networks And Fuzzy Logic, Image Processing, Product Design And Development, Engineering Optimization, Financial Management, Marketing Management, Control Systems                                                                                                                                                                                                                                                                                                                                                                                                                                                                                                                                                                                                                                                                                    1\n",
       "Area of Thesis:Real Estate Markets, Reverse Mortgages in the Indian Context, actuarial valuations of reverse mortgages, property appreciation indices for cities in India                                                                                                                                                                                                                                                                                                                                                                                                                                                                                                                                                                                                                                                                                                                                                                     1\n",
       "Completed one year Senior Management Program. Covered all the modules of general management - Strategy, Economics, Information Systems, Operations and supply management, Marketing, Organization Behavior,  Risk management and finance markets, Negotiation and Law, Finance Management, Human Resource Management, Ethics, Corporate Governance, Communication with ~100 cases and a Capstone project.                                                                                                                                                                                                                                                                                                                                                                                                                                                                                                                                     1\n",
       "Artificial Intelligence, Machine Learning, Computer Vision and Signal Processing, Cryptography, Achievements:- Startingbloc fellow 2011, Boston leadership Institute[Awarded to leaders with potential and past record of social impact]- Center for future storytelling fellow, MIT Media Lab 2010[Fully funded graduate research fellowship for innovations in frontier media technologies at Massachusetts Institute of Technology]- Narotam Sekhsaria Fellow 2009[Awarded to 10 students nationally all over India after psychometric, academic and leadership profiling]- IET UK International student fellow 2008 [Encyrption algorithms]- Represented India at IET-UK PATW International finals,      Amsterdam, Netherlands 2007,ranked 3rd. internationally.- Represented India at L'Oreal Ingenius 2007, Paris, France                                                                                                              1\n",
       "Was awarded Prof. Achim Bopp prize for Best Hardware Project in B.Tech. Electrical Engineering during 51st Convocation of IITM                                                                                                                                                                                                                                                                                                                                                                                                                                                                                                                                                                                                                                                                                                                                                                                                                1\n",
       "* Major- Product Design and Quality*Completed Practice School with the Aditya Auto Products Bangalore for six months (Jan 2003- Jun 2003).                                                                                                                                                                                                                                                                                                                                                                                                                                                                                                                                                                                                                                                                                                                                                                                                    1\n",
       "Great Lakes PGP-DSE is a full-time program for early career professionals looking to build their career in data science & analytics by learning relevant data science techniques, tools and technologies, and hands-on application through industry case studies.PROGRAM CURRICULUM:Data Analytics Problem SolvingBusiness Modules in Marketing, Operations, Supply Chain and Financial AnalyticsCreating Analytics DashboardsStructured and Unstructured DataData Cleansing and Data ManipulationAccessing Data Servers using MySQLData Querying - SQL, Joins, Indexing, Stored procedures,ETL ProcessesData Modelling - Financial Modelling, What if Analysis,Scenario Generation,Pivot tables,Excel SolverData VisualisationStatisticsTime SeriesPredictive Modelling techniquesLinear RegressionLogistic RegressionDimensionality ReductionClassificationAssociationTOOLS COVERED:R, Python, Tableau, DBMS, SQL, PL/SQL, Hive, Spark      1\n",
       "PhD Thesis Title: Automated Grading of Descriptive Answers through Machine Learning TechniquesCurrent Status: Awarded                                                                                                                                                                                                                                                                                                                                                                                                                                                                                                                                                                                                                                                                                                                                                                                                                         1\n",
       "Studying MSc Statistics in School of Science, Gujarat University.                                                                                                                                                                                                                                                                                                                                                                                                                                                                                                                                                                                                                                                                                                                                                                                                                                                                             1\n",
       "Area of Study - Business Operations & StrategyPrimary focus of my Master's Degree was Business Operations (Business Process Re-Engineering/Improvement, Optimization, Supply Chain ). For my minor field of study I took extra credits in Strategy to better prepare for real life business challenges.  During my second year, visited the EU Business School in Munich, Germany as a part of Global Field Study program at IIT Delhi. Got a manufacturing tutorial at BMW production units in Dingolfing in Germany and a General Management tutorial via Corporate visits to BASF & Schneider Electric.                                                                                                                                                                                                                                                                                                                                    1\n",
       "â¢\\tPresident of Nepathya (The cultural cell of NMIMS).â¢\\tFounding member of College Rock band called \"OXYMORONS\"â¢\\tWorked in an NGO called Janhit foundation for 3 Weeks full time. Work of our NGO project was published and referred in leading newspapers like The Hindu (English) and Danik Jagran (Hindi)â¢\\tCore member of Organizing team of cultural festival of NMIMS called \"Euphoria '12\".â¢\\tCorporate projects for Sensibol Technologies and mbaskool.com in field of product design,marketing and branding.â¢\\tWinner of Business & General quiz held by NMIMS on national level.                                                                                                                                                                                                                                                                                                                                      1\n",
       "First Class with Distinction                                                                                                                                                                                                                                                                                                                                                                                                                                                                                                                                                                                                                                                                                                                                                                                                                                                                                                                  1\n",
       "From the department of Information and Communication technologyMajor is Computer Network with minor in subjects  Big Data,Cloud Computing and Parallel Computing                                                                                                                                                                                                                                                                                                                                                                                                                                                                                                                                                                                                                                                                                                                                                                              1\n",
       "Completed module for high functionality programming language like Python, completed free and open-source cross-platform document-oriented database program Mongo Db, parallel Programming model MapReduce, completed open source distributed NoSQL database management Cassandra, graph database management system Neo4j, Cluster computing, Data analytics, Heuristics and Optimization.                                                                                                                                                                                                                                                                                                                                                                                                                                                                                                                                                     1\n",
       "Business Analytics (Data Science & Big Data)Marketing (Consumer Behavior, Brand Management, Marketing Analytics)Strategic and Operations Leadership                                                                                                                                                                                                                                                                                                                                                                                                                                                                                                                                                                                                                                                                                                                                                                                           1\n",
       "Coursework included a perfect blend of theoretical & applied statistics along with topics in theoretical computer science. Provides the perfect background to solve algorithm driven machine learning problems on really large data and also be aware of potential pitfalls and drawbacks of different methodologies. MSc. Dissertation: 'Some Aspects of High Dimensional Data', advised by Prof. Sanjeev Sabnis---                                                                                                                                                                                                                                                                                                                                                                                                                                                                                                                          1\n",
       "Dissertation:Analyzing Cardiac Medical Device Failures with a Machine Learning ApproachMy Research Interests:InformaticsMachine LearningNatural Language ProcessingText Mining                                                                                                                                                                                                                                                                                                                                                                                                                                                                                                                                                                                                                                                                                                                                                                1\n",
       "Mathematical Programming,Inventory Management,Portfolio Management,Queuing Theory,Data Mining & Data Warehousing,DBMS & VB,Software & Hardware Reliability,Econometric,Statistics,Scheduling Techniques,Marketing Management,Financial Management,Multi Criteria Decision Models.                                                                                                                                                                                                                                                                                                                                                                                                                                                                                                                                                                                                                                                             1\n",
       "Algorithms, Artificial Intelligence, Machine Learning, Mobile & Sensors                                                                                                                                                                                                                                                                                                                                                                                                                                                                                                                                                                                                                                                                                                                                                                                                                                                                       1\n",
       "Name: Education Description 1, dtype: int64"
      ]
     },
     "execution_count": 6,
     "metadata": {},
     "output_type": "execute_result"
    }
   ],
   "source": [
    "data['Education Description 1'].value_counts(dropna=False)"
   ]
  },
  {
   "cell_type": "code",
   "execution_count": 7,
   "metadata": {},
   "outputs": [
    {
     "data": {
      "text/plain": [
       "Full name                      object\n",
       "Title                          object\n",
       "Location                       object\n",
       "Summary                        object\n",
       "Organization 1                 object\n",
       "Organization Title 1           object\n",
       "Organization Start 1           object\n",
       "Organization End 1             object\n",
       "Organization Description 1     object\n",
       "Organization Location 1        object\n",
       "Organization 2                 object\n",
       "Organization Title 2           object\n",
       "Organization Start 2           object\n",
       "Organization End 2             object\n",
       "Organization Description 2     object\n",
       "Organization Location 2        object\n",
       "Organization 3                 object\n",
       "Organization Title 3           object\n",
       "Organization Start 3           object\n",
       "Organization End 3             object\n",
       "Organization Description 3     object\n",
       "Organization Location 3        object\n",
       "Organization 4                 object\n",
       "Organization Title 4           object\n",
       "Organization Start 4           object\n",
       "Organization End 4             object\n",
       "Organization Description 4     object\n",
       "Organization Location 4        object\n",
       "Organization 5                 object\n",
       "Organization Title 5           object\n",
       "Organization Start 5           object\n",
       "Organization End 5             object\n",
       "Organization Description 5     object\n",
       "Organization Location 5        object\n",
       "Education 1                    object\n",
       "Education Degree 1             object\n",
       "Education FOS 1                object\n",
       "Education Description 1        object\n",
       "Education 2                    object\n",
       "Education Degree 2             object\n",
       "Education FOS 2                object\n",
       "Education Description 2        object\n",
       "Education 3                    object\n",
       "Education Degree 3             object\n",
       "Education FOS 3                object\n",
       "Education Description 3        object\n",
       "Skills                         object\n",
       "Followers                     float64\n",
       "Relationship                    int64\n",
       "Industry                       object\n",
       "Mutual Count                    int64\n",
       "Mutual                         object\n",
       "Mutual 1                       object\n",
       "Mutual 2                       object\n",
       "Interests                      object\n",
       "dtype: object"
      ]
     },
     "execution_count": 7,
     "metadata": {},
     "output_type": "execute_result"
    }
   ],
   "source": [
    "data.dtypes"
   ]
  },
  {
   "cell_type": "code",
   "execution_count": 8,
   "metadata": {},
   "outputs": [
    {
     "data": {
      "text/plain": [
       "Index(['Full name', 'Title', 'Location', 'Summary', 'Organization 1',\n",
       "       'Organization Title 1', 'Organization Start 1', 'Organization End 1',\n",
       "       'Organization Description 1', 'Organization Location 1',\n",
       "       'Organization 2', 'Organization Title 2', 'Organization Start 2',\n",
       "       'Organization End 2', 'Organization Description 2',\n",
       "       'Organization Location 2', 'Organization 3', 'Organization Title 3',\n",
       "       'Organization Start 3', 'Organization End 3',\n",
       "       'Organization Description 3', 'Organization Location 3',\n",
       "       'Organization 4', 'Organization Title 4', 'Organization Start 4',\n",
       "       'Organization End 4', 'Organization Description 4',\n",
       "       'Organization Location 4', 'Organization 5', 'Organization Title 5',\n",
       "       'Organization Start 5', 'Organization End 5',\n",
       "       'Organization Description 5', 'Organization Location 5', 'Education 1',\n",
       "       'Education Degree 1', 'Education FOS 1', 'Education Description 1',\n",
       "       'Education 2', 'Education Degree 2', 'Education FOS 2',\n",
       "       'Education Description 2', 'Education 3', 'Education Degree 3',\n",
       "       'Education FOS 3', 'Education Description 3', 'Skills', 'Followers',\n",
       "       'Relationship', 'Industry', 'Mutual Count', 'Mutual', 'Mutual 1',\n",
       "       'Mutual 2', 'Interests'],\n",
       "      dtype='object')"
      ]
     },
     "execution_count": 8,
     "metadata": {},
     "output_type": "execute_result"
    }
   ],
   "source": [
    "data.columns"
   ]
  },
  {
   "cell_type": "code",
   "execution_count": 9,
   "metadata": {},
   "outputs": [
    {
     "data": {
      "text/plain": [
       "Index(['full_name', 'title', 'location', 'summary', 'organization_1',\n",
       "       'organization_title_1', 'organization_start_1', 'organization_end_1',\n",
       "       'organization_description_1', 'organization_location_1',\n",
       "       'organization_2', 'organization_title_2', 'organization_start_2',\n",
       "       'organization_end_2', 'organization_description_2',\n",
       "       'organization_location_2', 'organization_3', 'organization_title_3',\n",
       "       'organization_start_3', 'organization_end_3',\n",
       "       'organization_description_3', 'organization_location_3',\n",
       "       'organization_4', 'organization_title_4', 'organization_start_4',\n",
       "       'organization_end_4', 'organization_description_4',\n",
       "       'organization_location_4', 'organization_5', 'organization_title_5',\n",
       "       'organization_start_5', 'organization_end_5',\n",
       "       'organization_description_5', 'organization_location_5', 'education_1',\n",
       "       'education_degree_1', 'education_fos_1', 'education_description_1',\n",
       "       'education_2', 'education_degree_2', 'education_fos_2',\n",
       "       'education_description_2', 'education_3', 'education_degree_3',\n",
       "       'education_fos_3', 'education_description_3', 'skills', 'followers',\n",
       "       'relationship', 'industry', 'mutual_count', 'mutual', 'mutual_1',\n",
       "       'mutual_2', 'interests'],\n",
       "      dtype='object')"
      ]
     },
     "execution_count": 9,
     "metadata": {},
     "output_type": "execute_result"
    }
   ],
   "source": [
    "data.columns = [x.lower() for x in data.columns.str.replace(\" \",\"_\")]\n",
    "data.columns"
   ]
  },
  {
   "cell_type": "code",
   "execution_count": 10,
   "metadata": {},
   "outputs": [
    {
     "data": {
      "text/plain": [
       "Data Science at Myntra                                                     3\n",
       "Data Science and Analytics                                                 2\n",
       "Data Science Enthusiast                                                    2\n",
       "Data Science & Machine Learning @Dell                                      1\n",
       "Data Science engineer at Maropost                                          1\n",
       "                                                                          ..\n",
       "Data Science | Data Analytics | Machine Learning                           1\n",
       "Head of Data Engineering at Sparity, Director at Data Science Authority    1\n",
       "Data Science | Machine Learning | NLP | Writer @Medium                     1\n",
       "Open to new opportunities in the field of Data Science & Data Analytics    1\n",
       "Data Science Geek | VIT | A Toastmaster                                    1\n",
       "Name: title, Length: 116, dtype: int64"
      ]
     },
     "execution_count": 10,
     "metadata": {},
     "output_type": "execute_result"
    }
   ],
   "source": [
    "data['title'].value_counts()"
   ]
  },
  {
   "cell_type": "code",
   "execution_count": 11,
   "metadata": {},
   "outputs": [
    {
     "data": {
      "text/plain": [
       "bangalore, Karnataka, India        69\n",
       "Hyderabad, Telangana, India        15\n",
       "Chennai, Tamil Nadu, India         14\n",
       "India                               4\n",
       "bangalore Area, India               3\n",
       "Gurgaon, Haryana, India             2\n",
       "Vellore, Tamil Nadu, India          2\n",
       "Krishna, Andhra Pradesh, India      2\n",
       "Albuquerque, New Mexico Area        1\n",
       "Vellore Area, India                 1\n",
       "South Delhi, Delhi, India           1\n",
       "Chennai Area, India                 1\n",
       "Mumbai, Maharashtra, India          1\n",
       "Salem, Tamil Nadu, India            1\n",
       "New Delhi, Delhi, India             1\n",
       "Ghaziabad, Uttar Pradesh, India     1\n",
       "Name: location, dtype: int64"
      ]
     },
     "execution_count": 11,
     "metadata": {},
     "output_type": "execute_result"
    }
   ],
   "source": [
    "data['location'].value_counts()"
   ]
  },
  {
   "cell_type": "code",
   "execution_count": 12,
   "metadata": {},
   "outputs": [
    {
     "name": "stdout",
     "output_type": "stream",
     "text": [
      "Requirement already satisfied: autocorrect in c:\\users\\kethan\\anaconda3\\lib\\site-packages (2.2.2)\n",
      "Note: you may need to restart the kernel to use updated packages.\n"
     ]
    },
    {
     "name": "stderr",
     "output_type": "stream",
     "text": [
      "WARNING: You are using pip version 21.0.1; however, version 21.1.1 is available.\n",
      "You should consider upgrading via the 'C:\\Users\\kethan\\Anaconda3\\python.exe -m pip install --upgrade pip' command.\n"
     ]
    }
   ],
   "source": [
    "pip install autocorrect"
   ]
  },
  {
   "cell_type": "code",
   "execution_count": 13,
   "metadata": {},
   "outputs": [],
   "source": [
    "from autocorrect import Speller  "
   ]
  },
  {
   "cell_type": "code",
   "execution_count": 14,
   "metadata": {},
   "outputs": [
    {
     "data": {
      "text/plain": [
       "Accenture                  4\n",
       "ZS                         4\n",
       "Oracle                     3\n",
       "Amazon                     3\n",
       "PayPal                     3\n",
       "                          ..\n",
       "Syniti                     1\n",
       "Freelancer                 1\n",
       "Purple techno Solutions    1\n",
       "Myntra Jabong              1\n",
       "Data Science Consulting    1\n",
       "Name: organization_1, Length: 93, dtype: int64"
      ]
     },
     "execution_count": 14,
     "metadata": {},
     "output_type": "execute_result"
    }
   ],
   "source": [
    "data['organization_1'].value_counts()"
   ]
  },
  {
   "cell_type": "code",
   "execution_count": 15,
   "metadata": {},
   "outputs": [
    {
     "data": {
      "text/plain": [
       "PayPal                    3\n",
       "Amazon                    2\n",
       "Dell                      2\n",
       "LinkedIn                  2\n",
       "Mu Sigma Inc.             2\n",
       "                         ..\n",
       "Rinalytics Advisors       1\n",
       "Grail Insights            1\n",
       "PhonePe                   1\n",
       "CareerNet Technologies    1\n",
       "upskope                   1\n",
       "Name: organization_2, Length: 101, dtype: int64"
      ]
     },
     "execution_count": 15,
     "metadata": {},
     "output_type": "execute_result"
    }
   ],
   "source": [
    "data['organization_2'].value_counts()"
   ]
  },
  {
   "cell_type": "code",
   "execution_count": 16,
   "metadata": {},
   "outputs": [
    {
     "data": {
      "text/plain": [
       "Mu Sigma Inc.                                   3\n",
       "PayPal                                          3\n",
       "ZS                                              2\n",
       "Cognizant                                       2\n",
       "Great Learning                                  2\n",
       "                                               ..\n",
       "ExpertsHub Industry Skill Development Centre    1\n",
       "Vue.ai                                          1\n",
       "Columbia Asia Hospitals Pvt. Ltd.               1\n",
       "Dell                                            1\n",
       "Zyme                                            1\n",
       "Name: organization_3, Length: 86, dtype: int64"
      ]
     },
     "execution_count": 16,
     "metadata": {},
     "output_type": "execute_result"
    }
   ],
   "source": [
    "data['organization_3'].value_counts()"
   ]
  },
  {
   "cell_type": "code",
   "execution_count": 17,
   "metadata": {},
   "outputs": [
    {
     "data": {
      "text/plain": [
       "Mu Sigma Inc.                3\n",
       "Accenture                    2\n",
       "Samsung Electronics          2\n",
       "PayPal                       2\n",
       "Tata Consultancy Services    2\n",
       "                            ..\n",
       "Envestnet | Yodlee           1\n",
       "Consultation                 1\n",
       "Monsanto Company             1\n",
       "Infosys                      1\n",
       "Nanolocal Technologies       1\n",
       "Name: organization_4, Length: 74, dtype: int64"
      ]
     },
     "execution_count": 17,
     "metadata": {},
     "output_type": "execute_result"
    }
   ],
   "source": [
    "data['organization_4'].value_counts()"
   ]
  },
  {
   "cell_type": "code",
   "execution_count": 18,
   "metadata": {
    "scrolled": true
   },
   "outputs": [
    {
     "data": {
      "text/plain": [
       "Mu Sigma Inc.                                                 5\n",
       "Wipro Technologies                                            2\n",
       "IBM                                                           2\n",
       "Amazon                                                        2\n",
       "HCL Technologies                                              2\n",
       "Berkshire India Limited                                       1\n",
       "Coupang                                                       1\n",
       "Electronics Corporation of India Limited (ECIL)               1\n",
       "Intimate Fashions                                             1\n",
       "Mu Sigma                                                      1\n",
       "Loylty Rewardz Mngt Pvt Ltd                                   1\n",
       "Samsung Electronics                                           1\n",
       "Mahindra & Mahindra - Cleantech Business                      1\n",
       "Infosys Limited                                               1\n",
       "Dell                                                          1\n",
       "IIM Rohtak                                                    1\n",
       "[24]7                                                         1\n",
       "Indian Institute Of Technology(BHU),Varanasi                  1\n",
       "Genpact SMS COE                                               1\n",
       "Rivigo                                                        1\n",
       "Evalueserve                                                   1\n",
       "CareerIn                                                      1\n",
       "HiLT, Indian Institute of Information Technology, Sri City    1\n",
       "IT Association, SRM University                                1\n",
       "Indian Institute of Management, Lucknow                       1\n",
       "Royal Bank of Scotland                                        1\n",
       "Symphony Teleca                                               1\n",
       "Apigee Technologies (Now Google Inc.)                         1\n",
       "Reliance Industries Limited                                   1\n",
       "GE Aviation                                                   1\n",
       "Nielsen                                                       1\n",
       "Lovelace Health System                                        1\n",
       "IIIT-B                                                        1\n",
       "Tesco.com                                                     1\n",
       "ICICI Bank                                                    1\n",
       "Endurance Technologies Ltd.                                   1\n",
       "Indix                                                         1\n",
       "Anokha                                                        1\n",
       "HealthKart                                                    1\n",
       "Technosoft Corporation                                        1\n",
       "PayPal                                                        1\n",
       "Aon Hewitt India                                              1\n",
       "Fractal Analytics                                             1\n",
       "Procter & Gamble                                              1\n",
       "Infosys                                                       1\n",
       "Virginia Tech                                                 1\n",
       "BearingPoint                                                  1\n",
       "Envestnet | Yodlee                                            1\n",
       "Yottaasys                                                     1\n",
       "Tata Consultancy Services                                     1\n",
       "Zyme Solutions                                                1\n",
       "PurpleCrest : Excellence Partner                              1\n",
       "Cartesian Consulting                                          1\n",
       "Flipkart.com                                                  1\n",
       "Name: organization_5, dtype: int64"
      ]
     },
     "execution_count": 18,
     "metadata": {},
     "output_type": "execute_result"
    }
   ],
   "source": [
    "data['organization_5'].value_counts()"
   ]
  },
  {
   "cell_type": "code",
   "execution_count": 19,
   "metadata": {},
   "outputs": [
    {
     "data": {
      "text/plain": [
       "Great Lakes Institute of Management                                7\n",
       "International Institute of Information Technology â Bangalore    4\n",
       "Birla Institute of Technology and Science, Pilani                  3\n",
       "Indian Institute of Management Bangalore                           3\n",
       "Indian Institute of Management, Calcutta                           3\n",
       "                                                                  ..\n",
       "Delhi College of Engineering                                       1\n",
       "Manipal Institute of Technology                                    1\n",
       "VELS University                                                    1\n",
       "University of Stirling                                             1\n",
       "Pune Institute of Computer Technology                              1\n",
       "Name: education_1, Length: 89, dtype: int64"
      ]
     },
     "execution_count": 19,
     "metadata": {},
     "output_type": "execute_result"
    }
   ],
   "source": [
    "data['education_1'].value_counts()"
   ]
  },
  {
   "cell_type": "code",
   "execution_count": 20,
   "metadata": {},
   "outputs": [
    {
     "data": {
      "text/plain": [
       "Delhi University                                     3\n",
       "College of Engineering, Guindy                       2\n",
       "Birla Institute of Technology and Science, Pilani    2\n",
       "West Bengal University of Technology                 2\n",
       "Bangalore University                                 2\n",
       "                                                    ..\n",
       "Model School Dalmianagar                             1\n",
       "Centre for Development of Advanced Computing         1\n",
       "Imarticus Learning Institute,Pune                    1\n",
       "Bangalore Institute of Technology (BIT)              1\n",
       "Indian Institute of Technology, Kharagpur            1\n",
       "Name: education_2, Length: 89, dtype: int64"
      ]
     },
     "execution_count": 20,
     "metadata": {},
     "output_type": "execute_result"
    }
   ],
   "source": [
    "data['education_2'].value_counts()"
   ]
  },
  {
   "cell_type": "code",
   "execution_count": 21,
   "metadata": {},
   "outputs": [
    {
     "data": {
      "text/plain": [
       "Kendriya Vidyalaya                                           2\n",
       "Bhashyam College of Education                                1\n",
       "Sanganabasava International Residential School,Bijapur       1\n",
       "Birla Institute of Technology and Science, Pilani            1\n",
       "DLF Public School                                            1\n",
       "BSA Crescent Institute of Science and Technology             1\n",
       "Central Academy                                              1\n",
       "Vidya Pratishthans Bal Vikas Mandir , Baramati, Dist.Pune    1\n",
       "Sri gayatri junior college,champapet.                        1\n",
       "Vidyanekathana                                               1\n",
       "Osmania University                                           1\n",
       "Loreto Day School Sealdah                                    1\n",
       "Bishop Januarius Memorial Carmel Academy                     1\n",
       "Udacity                                                      1\n",
       "Delhi Public School, Ranchi                                  1\n",
       "St. Xavier's College                                         1\n",
       "Army Public School                                           1\n",
       "Green Park Matric. Hr. Sec. School                           1\n",
       "Fergusson College                                            1\n",
       "Sir M Visvesvaraya Institute Of Technology                   1\n",
       "Great Lakes Institute of Management                          1\n",
       "Symbiosis Institute of Business Management, bangalore        1\n",
       "Velagapudi Ramakrishna Siddhartha Engineering College        1\n",
       "Vidyodaya Girl's Higher Secondary School                     1\n",
       "Sri Venkateswara College of Engineering                      1\n",
       "jaigopal garodia                                             1\n",
       "University of California, Berkeley                           1\n",
       "Gujarat University                                           1\n",
       "Central Board of Secondary Education                         1\n",
       "Brilliant Grammar High school                                1\n",
       "The University of New Mexico                                 1\n",
       "D.T.E.A Senior Secondary School                              1\n",
       "Tagore Public School                                         1\n",
       "Narayana Junior College, Nellore                             1\n",
       "Ramjas College                                               1\n",
       "Vidya Mandir, Chennai                                        1\n",
       "Indian Statistical Institute, Kolkata                        1\n",
       "M.S. Ramaiah Institute Of Technology                         1\n",
       "De Nobili School Maithon                                     1\n",
       "St. Stanislaus High School                                   1\n",
       "D.A.V Public School Bilaspur                                 1\n",
       "Sri Chandrasekharendra Saraswathi Viswa Mahavidyalaya        1\n",
       "Sacred Heart Convent School                                  1\n",
       "Nagpur University                                            1\n",
       "CECRI                                                        1\n",
       "Scottish Church College                                      1\n",
       "Mahesh PU College, Mangalore                                 1\n",
       "Rajasthan public sr.sec school,bissau                        1\n",
       "D.A.V. Group of Schools, Chennai                             1\n",
       "Brightlands School                                           1\n",
       "PUCJ T College                                               1\n",
       "Sri Chaitanya Junior College                                 1\n",
       "HOLY CHILD SCHOOL                                            1\n",
       "University of Calicut                                        1\n",
       "Chinmaya Vidyalaya                                           1\n",
       "Kendriya Vidyalaya 9BRD AFS, Pune                            1\n",
       "D.T.E.A                                                      1\n",
       "Macquarie University                                         1\n",
       "Name: education_3, dtype: int64"
      ]
     },
     "execution_count": 21,
     "metadata": {},
     "output_type": "execute_result"
    }
   ],
   "source": [
    "data['education_3'].value_counts()"
   ]
  },
  {
   "cell_type": "code",
   "execution_count": 22,
   "metadata": {},
   "outputs": [
    {
     "data": {
      "text/plain": [
       "\"\"                                                                                                                                                                                                                                                                                                                                                                                                                                                                                                                                                                                                                                                                                                                                                                                                                                                                                                                                                                                        2\n",
       "\"SQL : 22, Microsoft Excel : 17, R : 13, Analytics : 13, Requirements Analysis : 8, Big Data : 7, Business Analysis : 7, Data Analysis : 5, Supply Chain Management : 3, SAS Programming : 3, SAS programming : 2, Content Strategy : 0, Analytical Skills : 0, Machine Learning : 0, Statistical Modeling : 0, Data Visualization : 0, Strategy : 0, Product Development : 0, Artificial Intelligence (AI) : 0, Data Mining : 0, Data Science : 0, Project Management : 0, Business Intelligence (BI) : 0, PL/SQL : 12, Microsoft Office : 12, C : 9, Hadoop : 2, Basic HTML : 2, Basic CSS : 2, C++ : 2, Python : 1, Java : 1, AJAX : 0, MapReduce : 0, Team Management : 1, Leadership : 0, Management : 0, Teradata : 6, Apache Pig : 5, Hive : 4, Time Series Analysis : 1, ESD control : 1, Anomaly Detection : 1, Path Analysis : 1, Topic Modeling : 0, A/B Testing : 0, Apache Spark : 0, Natural Language Processing (NLP) : 0, Predictive Modeling : 0, Basic jquery : 2, \"    1\n",
       "\"Analytics : 29, Finance : 20, Statistics : 14, Business Analysis : 12, Financial Modeling : 12, Data Analysis : 10, Management Consulting : 8, Market Research : 8, Banking : 7, Valuation : 7, Business Analytics : 6, Analysis : 6, Strategy : 5, Financial Analysis : 3, Real Estate : 1, SAS : 2, Team Management : 5, \"                                                                                                                                                                                                                                                                                                                                                                                                                                                                                                                                                                                                                                                             1\n",
       "\"Python : 1, Machine Learning : 1, R : 1, Tableau : 1, Tibco Spotfire : 1, Hive : 0, \"                                                                                                                                                                                                                                                                                                                                                                                                                                                                                                                                                                                                                                                                                                                                                                                                                                                                                                    1\n",
       "\"Python (Programming Language) : 7, Statistics : 7, MySQL : 7, Digital Marketing : 2, Social Media Marketing : 2, Data Structures : 4, R : 3, Microsoft Power BI : 1, Tableau : 2, Databases : 2, Microsoft Excel : 1, Microsoft PowerPoint : 1, C : 4, C++ : 4, HTML : 2, Cascading Style Sheets (CSS) : 2, JavaScript : 1, PhP : 2, Java : 2, \"                                                                                                                                                                                                                                                                                                                                                                                                                                                                                                                                                                                                                                         1\n",
       "                                                                                                                                                                                                                                                                                                                                                                                                                                                                                                                                                                                                                                                                                                                                                                                                                                                                                                                                                                                         ..\n",
       "\"Data Warehousing : 58, Business Intelligence : 57, Data Modeling : 53, Data Integration : 32, Business Analysis : 29, Requirements Analysis : 20, Solution Architecture : 15, Analytics : 13, Data Analysis : 11, Data Mining : 8, Enterprise Architecture : 7, ETL : 7, Extract, Transform, Load (ETL) : 4, Information Management : 3, Information Architecture : 2, Machine Learning : 2, Data Science : 1, Deep Learning : 1, Informatica : 19, Business Objects : 11, Oracle : 4, Relational Databases : 3, tensorflow : 1, Teradata : 13, Data Warehouse Architecture : 10, Data Marts : 7, Erwin : 5, Dimensional Modeling : 4, Business Intelligence Tools : 4, Data Models : 4, OLAP : 2, IBM BDW : 2, IBM IIW : 2, InfoSphere Data Architect : 1, \"                                                                                                                                                                                                                            1\n",
       "\"Machine Learning : 3, python : 2, Tableau : 2, Data Science : 3, Data Mining : 1, Statistics : 1, Data Visualization : 1, Data Analysis : 4, Computer Vision : 0, Business Analysis : 0, Hadoop : 0, R : 2, SQL : 2, Microsoft Excel : 0, Microsoft Office : 0, Microsoft Word : 0, Microsoft Power BI : 2, Predictive Analytics : 2, Data Analytics : 1, Text Mining : 0, Natural Language Processing (NLP) : 2, Machine Learning Algorithms : 1, \"                                                                                                                                                                                                                                                                                                                                                                                                                                                                                                                                     1\n",
       "\"Machine Learning : 4, Deep Learning : 2, Natural Language Processing (NLP) : 2, Data Analysis : 4, Statistical Data Analysis : 3, Business Analytics : 1, Financial Analysis : 1, Forecasting : 1, Business Intelligence : 1, Data Visualization : 1, Pivot Tables : 2, Customer Relations : 1, Content Development : 2, FPGA : 2, Volunteering : 1, Computer Vision : 1, Python : 1, R : 4, Tableau : 3, Keras : 1, TensorFlow : 1, Microsoft Excel : 2, Microsoft Word : 2, SQL : 3, MySQL : 3, Hadoop : 1, Blogger : 1, VHDL : 2, Matlab : 2, Teamwork : 4, Creativity Skills : 3, Text Classification : 1, Predictive Analytics : 1, Predictive Modeling : 1, Logistic Regression : 2, Decision Trees : 2, Convolutional Neural Networks (CNN) : 1, Exploratory Data Analysis : 3, Time Series Analysis : 1, Data Art : 1, KPI Dashboards : 1, Data Manipulation : 1, Data Cleaning : 1, RDBMS : 3, RStudio : 2, Dashboard : 2, OpenCV : 1, Text Analytics : 1, \"                    1\n",
       "\"Data Mining : 92, Big Data : 98, Machine Learning : 69, Analytics : 27, Business Intelligence : 12, Cloud Computing : 31, Business Analytics : 4, Statistical Data Analysis : 4, Data Science : 5, Data Analysis : 13, Algorithms : 35, Mobile Devices : 24, Consulting : 2, Strategy : 2, Customer Relationship Management (CRM) : 2, Deep Learning : 1, Hadoop : 19, R : 10, MapReduce : 4, MySQL : 8, Enterprise Software : 13, C : 74, Python : 13, Android : 31, Java : 55, RTOS : 3, Sentiment Analysis : 5, Text Mining : 5, Hive : 7, Data Analytics : 5, MR : 2, Business Statistics : 2, Web Intelligence : 2, Analysis of business problems/needs : 2, Natural Language Processing : 5, Predictive Analytics : 2, Text Analytics : 3, Text Classification : 3, Big Data Analytics : 2, \"                                                                                                                                                                                      1\n",
       "\"Natural Language Processing (NLP) : 2, Machine Learning : 4, Data Analysis : 4, Statistical Modeling : 1, Data Science : 0, Deep Learning : 2, Statistical Data Analysis : 2, Data Visualization : 3, Analytics : 1, Data Mining : 0, Python (Programming Language) : 2, Microsoft Bot Framework : 0, Pandas : 3, TensorFlow : 0, Beautiful Soup : 0, SQL : 1, JavaScript : 0, Hadoop : 1, C (Programming Language) : 1, R : 1, Git : 0, NumPy : 2, Convolutional Neural Networks (CNN) : 1, Artificial Neural Networks : 1, Neural Networks : 1, Regression Analysis : 1, Support Vector Machine (SVM) : 1, Matplotlib : 2, Web Scraping : 0, Predictive Modeling : 0, Machine Learning Algorithms : 0, Information Extraction : 0, Long Short-term Memory (LSTM) : 0, Logistic Regression : 0, Feature Engineering : 0, \"                                                                                                                                                              1\n",
       "Name: skills, Length: 119, dtype: int64"
      ]
     },
     "execution_count": 22,
     "metadata": {},
     "output_type": "execute_result"
    }
   ],
   "source": [
    "data['skills'].value_counts()"
   ]
  },
  {
   "cell_type": "code",
   "execution_count": 23,
   "metadata": {},
   "outputs": [],
   "source": [
    "import re\n",
    "\n",
    "def remove_html(text):\n",
    "    soup = BeautifulSoup(text,'lxml')\n",
    "    html_free = soup.get_text()\n",
    "    return html_free\n",
    "\n",
    "def remove_punctuation(text):\n",
    "    no_punct = \"\".join([c for c in text if c not in string.punctuation])\n",
    "    return no_punct\n",
    "\n",
    "def remove_numbers(text):\n",
    "    no_num = re.sub(r'\\d+','',text)\n",
    "    return no_num\n",
    "\n",
    "# instantiate tokenizer\n",
    "tokenizer = RegexpTokenizer(r'\\w+')\n",
    "\n",
    "\n",
    "def remove_stopwords(text):\n",
    "    words = [w for w in text if w not in stopwords.words('english')]\n",
    "    return words\n",
    "\n",
    "# instantiate lemmatizer\n",
    "lemmatizer = WordNetLemmatizer()\n",
    "\n",
    "def word_lemmatizer(text):\n",
    "    lem_text = [lemmatizer.lemmatize(i) for i in text]\n",
    "    return lem_text\n",
    "\n",
    "# instantiate stemmer\n",
    "stemmer = PorterStemmer()\n",
    "\n",
    "def word_stemmer(text):\n",
    "    stem_text = \" \".join([stemmer.stem(i) for i in text])\n",
    "    return stem_text"
   ]
  },
  {
   "cell_type": "code",
   "execution_count": 24,
   "metadata": {},
   "outputs": [
    {
     "data": {
      "text/plain": [
       "0      years of experience in Data Science consulti...\n",
       "1    Currently part of Data Science team at CRED  A...\n",
       "2    Heading Data Science Team and building AI prod...\n",
       "3    Post graduate student in Data Science Engineer...\n",
       "4    I am a Data Scientist with experience in conce...\n",
       "Name: summary, dtype: object"
      ]
     },
     "execution_count": 24,
     "metadata": {},
     "output_type": "execute_result"
    }
   ],
   "source": [
    "# for summary column\n",
    "data.summary = data.summary.astype(str)\n",
    "data.summary = data['summary'].apply(remove_punctuation)\n",
    "data.summary = data['summary'].apply(remove_numbers)\n",
    "data.summary.head(5)"
   ]
  },
  {
   "cell_type": "code",
   "execution_count": 25,
   "metadata": {},
   "outputs": [
    {
     "data": {
      "text/plain": [
       "0      International Institute of Information Technol...\n",
       "1      International Institute of Information Technol...\n",
       "2           Centre for Development of Advanced Computing\n",
       "3                    Great Lakes Institute of Management\n",
       "4                Indian Institute of Management Calcutta\n",
       "                             ...                        \n",
       "115            Jawaharlal Nehru Technological University\n",
       "116                Indian Institute of Technology Kanpur\n",
       "117       Motilal Nehru National Institute Of Technology\n",
       "118                                   Manipal University\n",
       "119                               The Wharton School NIT\n",
       "Name: education_1, Length: 120, dtype: object"
      ]
     },
     "execution_count": 25,
     "metadata": {},
     "output_type": "execute_result"
    }
   ],
   "source": [
    "data.education_1 = data.education_1.astype(str)\n",
    "data.education_1 = data['education_1'].apply(remove_punctuation)\n",
    "data.education_1 = data['education_1'].apply(remove_numbers)\n",
    "data.education_1.head(120)"
   ]
  },
  {
   "cell_type": "code",
   "execution_count": 26,
   "metadata": {},
   "outputs": [
    {
     "data": {
      "text/plain": [
       "0             Chennai Area India\n",
       "1      bangalore Karnataka India\n",
       "2      bangalore Karnataka India\n",
       "3       Chennai Tamil Nadu India\n",
       "4      bangalore Karnataka India\n",
       "                 ...            \n",
       "115    Hyderabad Telangana India\n",
       "116    bangalore Karnataka India\n",
       "117    Hyderabad Telangana India\n",
       "118    bangalore Karnataka India\n",
       "119    bangalore Karnataka India\n",
       "Name: location, Length: 120, dtype: object"
      ]
     },
     "execution_count": 26,
     "metadata": {},
     "output_type": "execute_result"
    }
   ],
   "source": [
    "data.location = data.location.astype(str)\n",
    "data.location = data['location'].apply(remove_punctuation)\n",
    "data.location = data['location'].apply(remove_numbers)\n",
    "data.location.head(120)"
   ]
  },
  {
   "cell_type": "code",
   "execution_count": 27,
   "metadata": {},
   "outputs": [
    {
     "data": {
      "text/plain": [
       "0    [years, of, experience, in, data, science, con...\n",
       "1    [currently, part, of, data, science, team, at,...\n",
       "2    [heading, data, science, team, and, building, ...\n",
       "3    [post, graduate, student, in, data, science, e...\n",
       "4    [i, am, a, data, scientist, with, experience, ...\n",
       "Name: summary, dtype: object"
      ]
     },
     "execution_count": 27,
     "metadata": {},
     "output_type": "execute_result"
    }
   ],
   "source": [
    "data['summary'] = data['summary'].apply(lambda x: tokenizer.tokenize(x.lower()))\n",
    "data['summary'].head(5)"
   ]
  },
  {
   "cell_type": "code",
   "execution_count": 28,
   "metadata": {},
   "outputs": [
    {
     "data": {
      "text/plain": [
       "0      [international, institute, of, information, te...\n",
       "1      [international, institute, of, information, te...\n",
       "2      [centre, for, development, of, advanced, compu...\n",
       "3              [great, lakes, institute, of, management]\n",
       "4          [indian, institute, of, management, calcutta]\n",
       "                             ...                        \n",
       "115       [jawaharlal, nehru, technological, university]\n",
       "116          [indian, institute, of, technology, kanpur]\n",
       "117    [motilal, nehru, national, institute, of, tech...\n",
       "118                                [manipal, university]\n",
       "119                          [the, wharton, school, nit]\n",
       "Name: education_1, Length: 120, dtype: object"
      ]
     },
     "execution_count": 28,
     "metadata": {},
     "output_type": "execute_result"
    }
   ],
   "source": [
    "data['education_1'] = data['education_1'].apply(lambda x: tokenizer.tokenize(x.lower()))\n",
    "data['education_1'].head(120)"
   ]
  },
  {
   "cell_type": "code",
   "execution_count": 29,
   "metadata": {},
   "outputs": [
    {
     "data": {
      "text/plain": [
       "0             [chennai, area, india]\n",
       "1      [bangalore, karnataka, india]\n",
       "2      [bangalore, karnataka, india]\n",
       "3      [chennai, tamil, nadu, india]\n",
       "4      [bangalore, karnataka, india]\n",
       "                   ...              \n",
       "115    [hyderabad, telangana, india]\n",
       "116    [bangalore, karnataka, india]\n",
       "117    [hyderabad, telangana, india]\n",
       "118    [bangalore, karnataka, india]\n",
       "119    [bangalore, karnataka, india]\n",
       "Name: location, Length: 120, dtype: object"
      ]
     },
     "execution_count": 29,
     "metadata": {},
     "output_type": "execute_result"
    }
   ],
   "source": [
    "data['location'] = data['location'].apply(lambda x: tokenizer.tokenize(x.lower()))\n",
    "data['location'].head(120)"
   ]
  },
  {
   "cell_type": "code",
   "execution_count": 30,
   "metadata": {},
   "outputs": [
    {
     "data": {
      "text/plain": [
       "0      [\", D,  , S, c, e, n, c, e,  , :,  , 0, ,,  , ...\n",
       "1      [\", P, h, n,  , :,  , 4, ,,  , C, +, +,  , :, ...\n",
       "2      [\", D, e, e, p,  , L, e, r, n, n, g,  , :,  , ...\n",
       "3      [\", P, h, n,  , (, P, r, g, r, n, g,  , L, n, ...\n",
       "4      [\", I, T,  , S, r, e, g,  , :,  , 3, 4, ,,  , ...\n",
       "                             ...                        \n",
       "115    [\", D,  , A, n, l,  , :,  , 7, ,,  , S, Q, L, ...\n",
       "116    [\", A, l, g, r, h,  , :,  , 1, 3, ,,  , P, h, ...\n",
       "117    [\", S, Q, L,  , :,  , 3, 7, ,,  , A, n, l, c, ...\n",
       "118    [\", M, c, h, n, e,  , L, e, r, n, n, g,  , :, ...\n",
       "119    [\", S, f, w, r, e,  , D, e, v, e, l, p, e, n, ...\n",
       "Name: skills, Length: 120, dtype: object"
      ]
     },
     "execution_count": 30,
     "metadata": {},
     "output_type": "execute_result"
    }
   ],
   "source": [
    "data['skills'] = data['skills'].apply(lambda x: remove_stopwords(x))\n",
    "data['skills'].head(120)"
   ]
  },
  {
   "cell_type": "code",
   "execution_count": 31,
   "metadata": {},
   "outputs": [
    {
     "data": {
      "text/plain": [
       "0    [years, experience, data, science, consulting,...\n",
       "1    [currently, part, data, science, team, cred, a...\n",
       "2    [heading, data, science, team, building, ai, p...\n",
       "3    [post, graduate, student, data, science, engin...\n",
       "4    [data, scientist, experience, conceptualizing,...\n",
       "Name: summary, dtype: object"
      ]
     },
     "execution_count": 31,
     "metadata": {},
     "output_type": "execute_result"
    }
   ],
   "source": [
    "data['summary'] = data['summary'].apply(lambda x: remove_stopwords(x))\n",
    "data['summary'].head(5)"
   ]
  },
  {
   "cell_type": "code",
   "execution_count": 32,
   "metadata": {},
   "outputs": [
    {
     "data": {
      "text/plain": [
       "0      [international, institute, information, techno...\n",
       "1      [international, institute, information, techno...\n",
       "2             [centre, development, advanced, computing]\n",
       "3                  [great, lakes, institute, management]\n",
       "4              [indian, institute, management, calcutta]\n",
       "                             ...                        \n",
       "115       [jawaharlal, nehru, technological, university]\n",
       "116              [indian, institute, technology, kanpur]\n",
       "117    [motilal, nehru, national, institute, technology]\n",
       "118                                [manipal, university]\n",
       "119                               [wharton, school, nit]\n",
       "Name: education_1, Length: 120, dtype: object"
      ]
     },
     "execution_count": 32,
     "metadata": {},
     "output_type": "execute_result"
    }
   ],
   "source": [
    "data['education_1'] = data['education_1'].apply(lambda x: remove_stopwords(x))\n",
    "data['education_1'].head(120)"
   ]
  },
  {
   "cell_type": "code",
   "execution_count": 33,
   "metadata": {},
   "outputs": [
    {
     "data": {
      "text/plain": [
       "0    [year, experience, data, science, consulting, ...\n",
       "1    [currently, part, data, science, team, cred, a...\n",
       "2    [heading, data, science, team, building, ai, p...\n",
       "3    [post, graduate, student, data, science, engin...\n",
       "4    [data, scientist, experience, conceptualizing,...\n",
       "Name: summary, dtype: object"
      ]
     },
     "execution_count": 33,
     "metadata": {},
     "output_type": "execute_result"
    }
   ],
   "source": [
    "data['summary'] = data['summary'].apply(lambda x: word_lemmatizer(x))\n",
    "data['summary'].head(5)"
   ]
  },
  {
   "cell_type": "code",
   "execution_count": 34,
   "metadata": {},
   "outputs": [
    {
     "data": {
      "text/plain": [
       "0      [international, institute, information, techno...\n",
       "1      [international, institute, information, techno...\n",
       "2             [centre, development, advanced, computing]\n",
       "3                   [great, lake, institute, management]\n",
       "4              [indian, institute, management, calcutta]\n",
       "                             ...                        \n",
       "115       [jawaharlal, nehru, technological, university]\n",
       "116              [indian, institute, technology, kanpur]\n",
       "117    [motilal, nehru, national, institute, technology]\n",
       "118                                [manipal, university]\n",
       "119                               [wharton, school, nit]\n",
       "Name: education_1, Length: 120, dtype: object"
      ]
     },
     "execution_count": 34,
     "metadata": {},
     "output_type": "execute_result"
    }
   ],
   "source": [
    "data['education_1'] = data['education_1'].apply(lambda x: word_lemmatizer(x))\n",
    "data['education_1'].head(120)"
   ]
  },
  {
   "cell_type": "code",
   "execution_count": 35,
   "metadata": {},
   "outputs": [
    {
     "data": {
      "text/plain": [
       "0             [chennai, area, india]\n",
       "1      [bangalore, karnataka, india]\n",
       "2      [bangalore, karnataka, india]\n",
       "3      [chennai, tamil, nadu, india]\n",
       "4      [bangalore, karnataka, india]\n",
       "                   ...              \n",
       "115    [hyderabad, telangana, india]\n",
       "116    [bangalore, karnataka, india]\n",
       "117    [hyderabad, telangana, india]\n",
       "118    [bangalore, karnataka, india]\n",
       "119    [bangalore, karnataka, india]\n",
       "Name: location, Length: 120, dtype: object"
      ]
     },
     "execution_count": 35,
     "metadata": {},
     "output_type": "execute_result"
    }
   ],
   "source": [
    "data['location'] = data['location'].apply(lambda x: word_lemmatizer(x))\n",
    "data['location'].head(120)"
   ]
  },
  {
   "cell_type": "code",
   "execution_count": 32,
   "metadata": {},
   "outputs": [],
   "source": [
    "#data['summary'] = data['summary'].apply(lambda x: word_stemmer(x))\n",
    "#data['summary'].head(5)"
   ]
  },
  {
   "cell_type": "code",
   "execution_count": 36,
   "metadata": {},
   "outputs": [
    {
     "name": "stdout",
     "output_type": "stream",
     "text": [
      "Collecting wordcloud\n",
      "  Downloading wordcloud-1.8.0-cp37-cp37m-win_amd64.whl (157 kB)\n",
      "Requirement already satisfied: numpy>=1.6.1 in c:\\users\\kethan\\anaconda3\\lib\\site-packages (from wordcloud) (1.16.5)\n",
      "Requirement already satisfied: pillow in c:\\users\\kethan\\anaconda3\\lib\\site-packages (from wordcloud) (6.2.0)\n",
      "Requirement already satisfied: matplotlib in c:\\users\\kethan\\anaconda3\\lib\\site-packages (from wordcloud) (3.1.1)\n",
      "Requirement already satisfied: cycler>=0.10 in c:\\users\\kethan\\anaconda3\\lib\\site-packages (from matplotlib->wordcloud) (0.10.0)\n",
      "Requirement already satisfied: kiwisolver>=1.0.1 in c:\\users\\kethan\\anaconda3\\lib\\site-packages (from matplotlib->wordcloud) (1.1.0)\n",
      "Requirement already satisfied: pyparsing!=2.0.4,!=2.1.2,!=2.1.6,>=2.0.1 in c:\\users\\kethan\\anaconda3\\lib\\site-packages (from matplotlib->wordcloud) (2.4.2)\n",
      "Requirement already satisfied: python-dateutil>=2.1 in c:\\users\\kethan\\anaconda3\\lib\\site-packages (from matplotlib->wordcloud) (2.8.0)\n",
      "Requirement already satisfied: six in c:\\users\\kethan\\anaconda3\\lib\\site-packages (from cycler>=0.10->matplotlib->wordcloud) (1.12.0)\n",
      "Requirement already satisfied: setuptools in c:\\users\\kethan\\anaconda3\\lib\\site-packages (from kiwisolver>=1.0.1->matplotlib->wordcloud) (41.4.0)\n",
      "Installing collected packages: wordcloud\n",
      "Successfully installed wordcloud-1.8.0\n",
      "Note: you may need to restart the kernel to use updated packages.\n"
     ]
    },
    {
     "name": "stderr",
     "output_type": "stream",
     "text": [
      "WARNING: You are using pip version 20.1.1; however, version 20.2.3 is available.\n",
      "You should consider upgrading via the 'C:\\Users\\kethan\\Anaconda3\\python.exe -m pip install --upgrade pip' command.\n"
     ]
    }
   ],
   "source": [
    "pip install wordcloud"
   ]
  },
  {
   "cell_type": "code",
   "execution_count": 37,
   "metadata": {},
   "outputs": [],
   "source": [
    "import numpy as np\n",
    "\n",
    "from PIL import Image\n",
    "from wordcloud import WordCloud, STOPWORDS\n",
    "\n",
    "import matplotlib.pyplot as plt"
   ]
  },
  {
   "cell_type": "code",
   "execution_count": 38,
   "metadata": {},
   "outputs": [
    {
     "name": "stdout",
     "output_type": "stream",
     "text": [
      "There are 47836 words in the combination of all summary.\n"
     ]
    }
   ],
   "source": [
    "text = (\"\\n \".join([\" \".join(x) for x in data.summary]))\n",
    "print (\"There are {} words in the combination of all summary.\".format(len(text)))"
   ]
  },
  {
   "cell_type": "code",
   "execution_count": 39,
   "metadata": {},
   "outputs": [],
   "source": [
    "def create_word_cloud(string):\n",
    "    cloud = WordCloud(background_color = \"white\", max_words = 500, stopwords = set(STOPWORDS))\n",
    "    cloud.generate(string)\n",
    "    cloud.to_file(\"wordCloud.png\")\n",
    "    \n",
    "dataset = text\n",
    "create_word_cloud(dataset)"
   ]
  },
  {
   "cell_type": "code",
   "execution_count": 40,
   "metadata": {},
   "outputs": [
    {
     "name": "stdout",
     "output_type": "stream",
     "text": [
      "There are 4087 words in the combination of all education.\n"
     ]
    }
   ],
   "source": [
    "text1 = (\"\\n \".join([\" \".join(x) for x in data.education_1]))\n",
    "print (\"There are {} words in the combination of all education.\".format(len(text1)))"
   ]
  },
  {
   "cell_type": "code",
   "execution_count": 41,
   "metadata": {},
   "outputs": [],
   "source": [
    "def create_word_cloud(string):\n",
    "    cloud = WordCloud(background_color = \"white\", max_words = 500, stopwords = set(STOPWORDS))\n",
    "    cloud.generate(string)\n",
    "    cloud.to_file(\"wordCloud1.png\")\n",
    "    \n",
    "dataset = text1\n",
    "create_word_cloud(dataset)"
   ]
  },
  {
   "cell_type": "code",
   "execution_count": 42,
   "metadata": {},
   "outputs": [
    {
     "name": "stdout",
     "output_type": "stream",
     "text": [
      "There are 3085 words in the combination of all location.\n"
     ]
    }
   ],
   "source": [
    "text2 = (\"\\n \".join([\" \".join(x) for x in data.location]))\n",
    "print (\"There are {} words in the combination of all location.\".format(len(text2)))"
   ]
  },
  {
   "cell_type": "code",
   "execution_count": 43,
   "metadata": {},
   "outputs": [],
   "source": [
    "def create_word_cloud(string):\n",
    "    cloud = WordCloud(background_color = \"white\", max_words = 500, stopwords = set(STOPWORDS))\n",
    "    cloud.generate(string)\n",
    "    cloud.to_file(\"wordCloud2.png\")\n",
    "    \n",
    "dataset = text2\n",
    "create_word_cloud(dataset)"
   ]
  },
  {
   "cell_type": "code",
   "execution_count": 44,
   "metadata": {},
   "outputs": [
    {
     "name": "stdout",
     "output_type": "stream",
     "text": [
      "There are 85492 words in the combination of all skills.\n"
     ]
    }
   ],
   "source": [
    "text3 = (\"\\n \".join([\" \".join(x) for x in data.skills]))\n",
    "print (\"There are {} words in the combination of all skills.\".format(len(text3)))"
   ]
  },
  {
   "cell_type": "code",
   "execution_count": null,
   "metadata": {},
   "outputs": [],
   "source": []
  }
 ],
 "metadata": {
  "kernelspec": {
   "display_name": "Python 3",
   "language": "python",
   "name": "python3"
  },
  "language_info": {
   "codemirror_mode": {
    "name": "ipython",
    "version": 3
   },
   "file_extension": ".py",
   "mimetype": "text/x-python",
   "name": "python",
   "nbconvert_exporter": "python",
   "pygments_lexer": "ipython3",
   "version": "3.7.4"
  }
 },
 "nbformat": 4,
 "nbformat_minor": 2
}
